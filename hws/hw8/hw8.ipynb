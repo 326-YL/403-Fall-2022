{
  "cells": [
    {
      "cell_type": "markdown",
      "metadata": {
        "id": "view-in-github",
        "colab_type": "text"
      },
      "source": [
        "<a href=\"https://colab.research.google.com/github/326-YL/403-Fall-2022/blob/main/hws/hw8/hw8.ipynb\" target=\"_parent\"><img src=\"https://colab.research.google.com/assets/colab-badge.svg\" alt=\"Open In Colab\"/></a>"
      ]
    },
    {
      "cell_type": "markdown",
      "metadata": {
        "id": "IuqwDQx1WCFt"
      },
      "source": [
        "# **HW 8. Three DoF Planar Arm**\n",
        "\n",
        "The goal of HW 8 is to create a dynamics simulation of a 3 DoF openchain system described in the figures below. \n",
        "\n",
        "<img src=\"https://github.com/DARoSLab/CS403-Intro-Robotics/blob/main/hws/hw8/3DoF_Arm_Kinematics.png?raw=true\" height=\"400\">\n",
        "<img src=\"https://github.com/DARoSLab/CS403-Intro-Robotics/blob/main/hws/hw8/3DoF_Arm_Dynamics.png?raw=true\" height=\"400\">"
      ]
    },
    {
      "cell_type": "code",
      "execution_count": 57,
      "metadata": {
        "colab": {
          "base_uri": "https://localhost:8080/"
        },
        "id": "EyvODgIVESou",
        "outputId": "44da770f-8ec9-4932-f31f-5dca5e9e0bd6"
      },
      "outputs": [
        {
          "output_type": "stream",
          "name": "stdout",
          "text": [
            "Looking in indexes: https://pypi.org/simple, https://us-python.pkg.dev/colab-wheels/public/simple/\n",
            "Requirement already satisfied: sympy in /usr/local/lib/python3.7/dist-packages (1.7.1)\n",
            "Requirement already satisfied: matplotlib in /usr/local/lib/python3.7/dist-packages (3.2.2)\n",
            "Requirement already satisfied: seaborn in /usr/local/lib/python3.7/dist-packages (0.11.2)\n",
            "Requirement already satisfied: ffmpeg-python in /usr/local/lib/python3.7/dist-packages (0.2.0)\n",
            "Requirement already satisfied: mpmath>=0.19 in /usr/local/lib/python3.7/dist-packages (from sympy) (1.2.1)\n",
            "Requirement already satisfied: numpy>=1.11 in /usr/local/lib/python3.7/dist-packages (from matplotlib) (1.21.6)\n",
            "Requirement already satisfied: cycler>=0.10 in /usr/local/lib/python3.7/dist-packages (from matplotlib) (0.11.0)\n",
            "Requirement already satisfied: python-dateutil>=2.1 in /usr/local/lib/python3.7/dist-packages (from matplotlib) (2.8.2)\n",
            "Requirement already satisfied: kiwisolver>=1.0.1 in /usr/local/lib/python3.7/dist-packages (from matplotlib) (1.4.4)\n",
            "Requirement already satisfied: pyparsing!=2.0.4,!=2.1.2,!=2.1.6,>=2.0.1 in /usr/local/lib/python3.7/dist-packages (from matplotlib) (3.0.9)\n",
            "Requirement already satisfied: typing-extensions in /usr/local/lib/python3.7/dist-packages (from kiwisolver>=1.0.1->matplotlib) (4.1.1)\n",
            "Requirement already satisfied: six>=1.5 in /usr/local/lib/python3.7/dist-packages (from python-dateutil>=2.1->matplotlib) (1.15.0)\n",
            "Requirement already satisfied: pandas>=0.23 in /usr/local/lib/python3.7/dist-packages (from seaborn) (1.3.5)\n",
            "Requirement already satisfied: scipy>=1.0 in /usr/local/lib/python3.7/dist-packages (from seaborn) (1.7.3)\n",
            "Requirement already satisfied: pytz>=2017.3 in /usr/local/lib/python3.7/dist-packages (from pandas>=0.23->seaborn) (2022.5)\n",
            "Requirement already satisfied: future in /usr/local/lib/python3.7/dist-packages (from ffmpeg-python) (0.16.0)\n"
          ]
        }
      ],
      "source": [
        "!pip3 install sympy matplotlib seaborn ffmpeg-python"
      ]
    },
    {
      "cell_type": "code",
      "execution_count": 59,
      "metadata": {
        "id": "kI138BjQFKeI"
      },
      "outputs": [],
      "source": [
        "import sympy as sym\n",
        "from sympy import Symbol, simplify, lambdify\n",
        "from sympy.matrices.expressions import transpose\n",
        "from sympy import sin, cos, Matrix\n",
        "import numpy as np\n",
        "from IPython.display import HTML\n",
        "import numpy as np\n",
        "import matplotlib.pyplot as plt\n",
        "import seaborn as sns\n",
        "from matplotlib import animation\n",
        "%matplotlib inline\n"
      ]
    },
    {
      "cell_type": "markdown",
      "metadata": {
        "id": "nKgJgDXEW4GB"
      },
      "source": [
        "# Declare Symbolic Variables"
      ]
    },
    {
      "cell_type": "code",
      "execution_count": 60,
      "metadata": {
        "id": "lbu-PXALJ-It"
      },
      "outputs": [],
      "source": [
        "# Write your code: Symbolic variable definition. Complete the following variable list\n",
        "[m1, m2, m3,c1,c2,c3,l1,l2,l3,I1,I2,I3,g] = sym.symbols('m1 m2 m3 c1 c2 c3 l1 l2 l3 I1 I2 I3 g')\n",
        "[th1,th2,th3,dth1,dth2,dth3,ddth1,ddth2,ddth3] = sym.symbols('th1 th2 th3 dth1 dth2 dth3 ddth1 ddth2 ddth3')\n",
        "[tau1, tau2, tau3] = sym.symbols('tau1 tau2 tau3')\n",
        "\n",
        "# Symbolic variable groupings: No need to change\n",
        "q  = Matrix([th1,  th2, th3])\n",
        "dq = Matrix([dth1,  dth2, dth3])\n",
        "ddq= Matrix([ddth1, ddth2, ddth3])\n",
        "u  = Matrix([tau1, tau2, tau3]) # control input\n",
        "z = Matrix([q.transpose(), dq.transpose()]) # state\n",
        "p   = [l1, l2, l3, c1, c2, c3, m1, m2, m3, I1, I2, I3, g]  # parameters\n",
        "\n",
        "zp_params = list(z)+list(p)\n",
        "zup_params = list(z)+list(u)+list(p)\n",
        "\n",
        "# Parameters: No need to change\n",
        "m1_p = 1.5\n",
        "m2_p = 1.\n",
        "m3_p = 2.0\n",
        "l1_p = .6\n",
        "l2_p = .4\n",
        "l3_p = .5\n",
        "c1_p = .3\n",
        "c2_p = .2\n",
        "c3_p = .4\n",
        "I1_p = 0.05\n",
        "I2_p = 0.05\n",
        "I3_p = 0.09\n",
        "\n",
        "g_p  = 9.81    \n",
        "params   = [l1_p, l2_p , l3_p, c1_p, c2_p, c3_p, m1_p, m2_p, m3_p, I1_p, I2_p, I3_p, g_p]"
      ]
    },
    {
      "cell_type": "code",
      "execution_count": 61,
      "metadata": {
        "id": "EFwIphBoHVeS"
      },
      "outputs": [],
      "source": [
        "# Handy functions to be used to compute time derivative and generalized forces: No need to change\n",
        "ddt = lambda x: x.jacobian(q)*dq + x.jacobian(dq)*ddq        # Time derivative\n",
        "F2Q = lambda F, r : simplify(r.jacobian(q).transpose()*F)    # force contributions to generalized forces\n",
        "M2Q = lambda M, w : simplify(w.jacobian(dq).transpose()*M)   # moment contributions to generalized forces"
      ]
    },
    {
      "cell_type": "markdown",
      "metadata": {
        "id": "I3vJmOWpXSKk"
      },
      "source": [
        "# **Q.1. [25 pts] Kinemeatics**\n",
        "\n",
        "Complete the code to compute the positions and velocities of the points of interest. Here, all positions and velocities (angular and linear) should be defined to compute kinetic and potential energies."
      ]
    },
    {
      "cell_type": "code",
      "execution_count": 62,
      "metadata": {
        "id": "GoIlqq_aJFLz",
        "outputId": "80993851-96bb-4e63-b4ba-921811c92c80",
        "colab": {
          "base_uri": "https://localhost:8080/"
        }
      },
      "outputs": [
        {
          "output_type": "stream",
          "name": "stdout",
          "text": [
            "rB:Matrix([[l1*sin(th1)], [l1*cos(th1)], [0]])\n",
            "Matrix([[l1*sin(th1) + l2*sin(th1 + th2)], [l1*cos(th1) + l2*cos(th1 + th2)], [0]])\n"
          ]
        }
      ],
      "source": [
        "# Kinemeatics\n",
        "rO = Matrix([0, 0, 0])    # position of link 1\n",
        "ehat1 =Matrix([sin(th1),cos(th1),0])          # Define unit vector along Leg 1\n",
        "ehat2 =Matrix([sin(th1+th2),cos(th1+th2),0])  # Define unit vector along Leg 2\n",
        "ehat3 =Matrix([sin(th1+th2+th3),cos(th1+th2+th3),0])  # Define unit vector along Leg 2\n",
        "\n",
        "ghat  = Matrix([0, -1 , 0])                      \n",
        "\n",
        "# Write your code: Define CoM position and link position\n",
        "rB  =rO+Matrix([l1*sin(th1),l1*cos(th1),0]) # Position of base of link 2\n",
        "print(f'rB:{rB}')\n",
        "rC  =rB+Matrix([l2*sin(th1+th2),l2*cos(th1+th2),0])   # Position of end of link 3\n",
        "print(rC)\n",
        "rD  =rC+Matrix([l3*sin(th1+th2+th3),l3*cos(th1+th2+th3),0])   # Position of end of link 3\n",
        "\n",
        "rc1 =c1*ehat1         # Position of link 1 CoM\n",
        "rc2 =rB+c2*ehat2     # Position of CoM of link 2\n",
        "rc3 =rC+c3*ehat3    # Position of CoM of link 3\n",
        "\n",
        "\n",
        "# Write your code: Define linear and angular velocity of each link\n",
        "# Hint: Utilize 'ddt' function\n",
        "\n",
        "vc1 =ddt(rc1)         # Velocity of link 1 CoM\n",
        "vc2 =ddt(rc2)         # Velocity of link 2 CoM\n",
        "vc3 =ddt(rc3)         # Velocity of link 3 CoM\n",
        "\n",
        "ac1=ddt(vc1)\n",
        "ac2=ddt(vc2)\n",
        "ac3=ddt(vc3)\n",
        "\n",
        "keypoints = Matrix([[rO], [rB], [rC], [rD]]).reshape(4, 3)\n",
        "keypoints_func = sym.lambdify(zp_params, keypoints)"
      ]
    },
    {
      "cell_type": "code",
      "source": [
        "# Test Forward Kinematics implementation: No need to change\n",
        "def test_forward_kinematics(params):\n",
        "\n",
        "  test_config = [[0, 0, 0, 0, 0, 0],\n",
        "                 [0, np.pi/4, np.pi/6, 0, 0, 0],\n",
        "                 [np.pi/8, -0.6, 0, 0, 0, 0]]\n",
        "  res = []\n",
        "  soln = np.array([[[ 0., 0., 0.],\n",
        "           [ 0., 0.6, 0.],\n",
        "           [ 0., 1., 0.],\n",
        "           [ 0., 1.5, 0.]],\n",
        "        [[ 0.,          0.,          0.],\n",
        "          [ 0.,         0.6,         0.],\n",
        "          [ 0.28284271, 0.88284271,  0.],\n",
        "          [ 0.76580563, 1.01225224,  0.]],\n",
        "        [[0.,          0.,          0.],\n",
        "          [ 0.22961006, 0.55432772,  0.],\n",
        "          [ 0.14728232, 0.94576372,  0. ],\n",
        "          [ 0.04437264, 1.43505872,  0. ]]])\n",
        "  \n",
        "  for i, q in enumerate(test_config): \n",
        "    xp_params = q + list(params)\n",
        "    res.append(keypoints_func(*xp_params))\n",
        "  res_np = np.array(res)\n",
        "  \n",
        "  assert np.allclose(soln, res_np), f'Your Forward kinematics implementation is wrong soln: {soln} != res: {res_np}'\n",
        "\n",
        "  print('Your Forward Kinematics implementation is correct!')"
      ],
      "metadata": {
        "id": "5LCQu9aeYY9I"
      },
      "execution_count": 63,
      "outputs": []
    },
    {
      "cell_type": "code",
      "source": [
        "test_forward_kinematics(params)"
      ],
      "metadata": {
        "id": "7AzZsV3491U5",
        "outputId": "d77ca0b0-c855-4386-c2a2-83e47f4c44f2",
        "colab": {
          "base_uri": "https://localhost:8080/"
        }
      },
      "execution_count": 64,
      "outputs": [
        {
          "output_type": "stream",
          "name": "stdout",
          "text": [
            "Your Forward Kinematics implementation is correct!\n"
          ]
        }
      ]
    },
    {
      "cell_type": "markdown",
      "metadata": {
        "id": "SA39N7MyXS3u"
      },
      "source": [
        "# **Q.2. [20 pts] Kinetic and Potential Energy of Links**\n",
        "\n",
        "Define the kinetic and potential energy of each link"
      ]
    },
    {
      "cell_type": "code",
      "execution_count": 65,
      "metadata": {
        "id": "4FOBhUVhKEpo"
      },
      "outputs": [],
      "source": [
        "# Write your code: Kinetic and Potential Energy of link 1\n",
        "T1 =simplify(1/2*m1*vc1.dot(vc1)+1/2*I1*dth1*dth1)\n",
        "V1=m1*g*rc1.dot(-ghat)\n",
        "\n",
        "# Write your code: Kinetic and Potential Energy of link 2\n",
        "T2 =simplify(1/2*m2*vc2.dot(vc2)+1/2*I2*(dth1+dth2)*(dth1+dth2))\n",
        "V2 =m2*g*rc2.dot(-ghat)\n",
        "\n",
        "# Write your code: Kinetic and Potential Energy of link 3\n",
        "T3 =simplify(1/2*m3*vc3.dot(vc3)+1/2*I3*(dth1+dth2+dth3)*(dth1+dth2+dth3))\n",
        "V3 =m3*g*rc3.dot(-ghat)"
      ]
    },
    {
      "cell_type": "markdown",
      "metadata": {
        "id": "XQbqqurzXTfJ"
      },
      "source": [
        "# **Q.3. [15 pts] Lagrangian and Total Energy (Hamiltonian)**"
      ]
    },
    {
      "cell_type": "code",
      "execution_count": 66,
      "metadata": {
        "id": "08QbM8fULVRO"
      },
      "outputs": [],
      "source": [
        "# Write your code: Kinetic, Potential, and total energy of the entire system\n",
        "KE =T1+T2+T3\n",
        "PE =V1+V2+V3\n",
        "E =KE+PE\n",
        "\n",
        "# Write your code: Lagrangian\n",
        "L =Matrix([simplify(KE-PE)])"
      ]
    },
    {
      "cell_type": "markdown",
      "metadata": {
        "id": "gzkRqvssXUXQ"
      },
      "source": [
        "# **Q.3. [20 pts] Generalized Forces**\n",
        "\n",
        "Define generalized force vectors using a M2Q function. \n",
        "\n",
        "Hint: The result should be $Q = \\begin{pmatrix}\\tau_1 \\\\ \\tau_2 \\\\ \\tau_3\\end{pmatrix}$. "
      ]
    },
    {
      "cell_type": "code",
      "execution_count": 67,
      "metadata": {
        "id": "C4I4G0PNMTM7",
        "outputId": "fc52d87e-1065-4aa1-c82c-45e658d561a7",
        "colab": {
          "base_uri": "https://localhost:8080/"
        }
      },
      "outputs": [
        {
          "output_type": "stream",
          "name": "stdout",
          "text": [
            "Matrix([[tau1], [0], [0]])\n",
            "Matrix([[0], [tau2], [0]])\n",
            "Matrix([[0], [0], [tau3]])\n",
            "Matrix([[tau1], [tau2], [tau3]])\n"
          ]
        }
      ],
      "source": [
        "# Write your code: \n",
        "Q_tau1 =M2Q(tau1,Matrix([dth1]))\n",
        "Q_tau2 =M2Q(tau2,Matrix([dth1+dth2]))+M2Q(-tau2,Matrix([dth1]))\n",
        "Q_tau3 =M2Q(tau3,Matrix([dth1+dth2+dth3]))+M2Q(-tau3,Matrix([dth1+dth2]))\n",
        "\n",
        "Q =Q_tau1+Q_tau2+Q_tau3\n",
        "\n",
        "print(Q_tau1)\n",
        "print(Q_tau2)\n",
        "print(Q_tau3)\n",
        "\n",
        "print(Q)"
      ]
    },
    {
      "cell_type": "markdown",
      "metadata": {
        "id": "bFmw3Qr2XVjm"
      },
      "source": [
        "# **Q.4. [10 pts] Equations of Motion**\n",
        "\n",
        "Complete the equations of motion by applying Lagrange formula. Find A (Mass matrix) and b vector explained in the lecture."
      ]
    },
    {
      "cell_type": "code",
      "execution_count": 68,
      "metadata": {
        "id": "hPlwm5ECQt8x"
      },
      "outputs": [],
      "source": [
        "dL_dq=L.jacobian(q).transpose()\n",
        "dL_dqd=L.jacobian(dq).transpose()\n",
        "g=ddt(dL_dqd)-dL_dq-Q\n",
        "\n",
        "A =g.jacobian(ddq)\n",
        "\n",
        "b =simplify(A*ddq-g)"
      ]
    },
    {
      "cell_type": "code",
      "source": [
        "A"
      ],
      "metadata": {
        "id": "AYBpaFz37gkW",
        "outputId": "891bdaa1-3a5d-4de3-b3a0-89cf73fe0a27",
        "colab": {
          "base_uri": "https://localhost:8080/",
          "height": 98
        }
      },
      "execution_count": 69,
      "outputs": [
        {
          "output_type": "execute_result",
          "data": {
            "text/plain": [
              "Matrix([\n",
              "[1.0*I1 + 1.0*I2 + 1.0*I3 + 1.0*c1**2*m1 + 0.5*m2*(2*c2**2 + 4*c2*l1*cos(th2) + 2*l1**2) + 0.5*m3*(2*c3**2 + 4*c3*l1*cos(th2 + th3) + 4*c3*l2*cos(th3) + 2*l1**2 + 4*l1*l2*cos(th2) + 2*l2**2), 1.0*I2 + 1.0*I3 + 0.5*m2*(2*c2**2 + 2*c2*l1*cos(th2)) + 0.5*m3*(2*c3**2 + 2*c3*l1*cos(th2 + th3) + 4*c3*l2*cos(th3) + 2*l1*l2*cos(th2) + 2*l2**2), 1.0*I3 + 0.5*m3*(2*c3**2 + 2*c3*l1*cos(th2 + th3) + 2*c3*l2*cos(th3))],\n",
              "[                                            1.0*I2 + 1.0*I3 + 0.5*m2*(2*c2**2 + 2*c2*l1*cos(th2)) + 0.5*m3*(2*c3**2 + 2*c3*l1*cos(th2 + th3) + 4*c3*l2*cos(th3) + 2*l1*l2*cos(th2) + 2*l2**2),                                                                    1.0*I2 + 1.0*I3 + 1.0*c2**2*m2 + 0.5*m3*(2*c3**2 + 4*c3*l2*cos(th3) + 2*l2**2),                          1.0*I3 + 0.5*m3*(2*c3**2 + 2*c3*l2*cos(th3))],\n",
              "[                                                                                                                        1.0*I3 + 0.5*m3*(2*c3**2 + 2*c3*l1*cos(th2 + th3) + 2*c3*l2*cos(th3)),                                                                                                      1.0*I3 + 0.5*m3*(2*c3**2 + 2*c3*l2*cos(th3)),                                                 1.0*I3 + 1.0*c3**2*m3]])"
            ],
            "text/latex": "$\\displaystyle \\left[\\begin{matrix}1.0 I_{1} + 1.0 I_{2} + 1.0 I_{3} + 1.0 c_{1}^{2} m_{1} + 0.5 m_{2} \\left(2 c_{2}^{2} + 4 c_{2} l_{1} \\cos{\\left(th_{2} \\right)} + 2 l_{1}^{2}\\right) + 0.5 m_{3} \\left(2 c_{3}^{2} + 4 c_{3} l_{1} \\cos{\\left(th_{2} + th_{3} \\right)} + 4 c_{3} l_{2} \\cos{\\left(th_{3} \\right)} + 2 l_{1}^{2} + 4 l_{1} l_{2} \\cos{\\left(th_{2} \\right)} + 2 l_{2}^{2}\\right) & 1.0 I_{2} + 1.0 I_{3} + 0.5 m_{2} \\left(2 c_{2}^{2} + 2 c_{2} l_{1} \\cos{\\left(th_{2} \\right)}\\right) + 0.5 m_{3} \\left(2 c_{3}^{2} + 2 c_{3} l_{1} \\cos{\\left(th_{2} + th_{3} \\right)} + 4 c_{3} l_{2} \\cos{\\left(th_{3} \\right)} + 2 l_{1} l_{2} \\cos{\\left(th_{2} \\right)} + 2 l_{2}^{2}\\right) & 1.0 I_{3} + 0.5 m_{3} \\left(2 c_{3}^{2} + 2 c_{3} l_{1} \\cos{\\left(th_{2} + th_{3} \\right)} + 2 c_{3} l_{2} \\cos{\\left(th_{3} \\right)}\\right)\\\\1.0 I_{2} + 1.0 I_{3} + 0.5 m_{2} \\left(2 c_{2}^{2} + 2 c_{2} l_{1} \\cos{\\left(th_{2} \\right)}\\right) + 0.5 m_{3} \\left(2 c_{3}^{2} + 2 c_{3} l_{1} \\cos{\\left(th_{2} + th_{3} \\right)} + 4 c_{3} l_{2} \\cos{\\left(th_{3} \\right)} + 2 l_{1} l_{2} \\cos{\\left(th_{2} \\right)} + 2 l_{2}^{2}\\right) & 1.0 I_{2} + 1.0 I_{3} + 1.0 c_{2}^{2} m_{2} + 0.5 m_{3} \\left(2 c_{3}^{2} + 4 c_{3} l_{2} \\cos{\\left(th_{3} \\right)} + 2 l_{2}^{2}\\right) & 1.0 I_{3} + 0.5 m_{3} \\left(2 c_{3}^{2} + 2 c_{3} l_{2} \\cos{\\left(th_{3} \\right)}\\right)\\\\1.0 I_{3} + 0.5 m_{3} \\left(2 c_{3}^{2} + 2 c_{3} l_{1} \\cos{\\left(th_{2} + th_{3} \\right)} + 2 c_{3} l_{2} \\cos{\\left(th_{3} \\right)}\\right) & 1.0 I_{3} + 0.5 m_{3} \\left(2 c_{3}^{2} + 2 c_{3} l_{2} \\cos{\\left(th_{3} \\right)}\\right) & 1.0 I_{3} + 1.0 c_{3}^{2} m_{3}\\end{matrix}\\right]$"
          },
          "metadata": {},
          "execution_count": 69
        }
      ]
    },
    {
      "cell_type": "markdown",
      "metadata": {
        "id": "_17LJTEOXWVy"
      },
      "source": [
        "# **Helper Functions For Simulation**"
      ]
    },
    {
      "cell_type": "code",
      "execution_count": 70,
      "metadata": {
        "id": "IQbDggpIUySz"
      },
      "outputs": [],
      "source": [
        "# Helper Functions: No need to change\n",
        "A_func = sym.lambdify(zp_params, A)\n",
        "b_func = sym.lambdify(zup_params, b)\n",
        "keypoints_func = sym.lambdify(zp_params, keypoints)\n",
        "kinetic_energy_func = sym.lambdify(zp_params, KE)\n",
        "potential_energy_func = sym.lambdify(zp_params, PE)\n",
        "E_func = sym.lambdify(zp_params, E)"
      ]
    },
    {
      "cell_type": "markdown",
      "metadata": {
        "id": "RdsdtEi8XW0A"
      },
      "source": [
        "#Q.5. [10 pts] **Dynamics**\n",
        "\n",
        "Complete the dynamics function returning $\\ddot{q}$ by using $A$ and $b$."
      ]
    },
    {
      "cell_type": "code",
      "execution_count": 71,
      "metadata": {
        "id": "6ab6Hp4FYbWQ"
      },
      "outputs": [],
      "source": [
        "def dynamics(x, params):\n",
        "  u = [0, 0, 0]\n",
        "  xp_params = list(x) + list(params)\n",
        "  xup_params = list(x) + u + list(params)\n",
        "  A_dyn = A_func(*xp_params)\n",
        "  b_dyn = b_func(*xup_params)\n",
        "\n",
        "  # Write your code: Computer joint acceleration\n",
        "  qdd=np.matmul(np.linalg.pinv(A_dyn),b_dyn)\n",
        "  print(f\"qdd is:{qdd}\")\n",
        "  return ddq"
      ]
    },
    {
      "cell_type": "markdown",
      "metadata": {
        "id": "gwMJPpN7h_UC"
      },
      "source": [
        "# **Perform Simulation**"
      ]
    },
    {
      "cell_type": "code",
      "execution_count": 73,
      "metadata": {
        "id": "Ym_DAl_za8HW",
        "outputId": "6046008a-7f59-4431-9a1c-b01810e21992",
        "colab": {
          "base_uri": "https://localhost:8080/",
          "height": 416
        }
      },
      "outputs": [
        {
          "output_type": "stream",
          "name": "stdout",
          "text": [
            "qdd is:[[ 18.24787635]\n",
            " [-31.96896974]\n",
            " [ 14.72089584]]\n"
          ]
        },
        {
          "output_type": "error",
          "ename": "AttributeError",
          "evalue": "ignored",
          "traceback": [
            "\u001b[0;31m---------------------------------------------------------------------------\u001b[0m",
            "\u001b[0;31mAttributeError\u001b[0m                            Traceback (most recent call last)",
            "\u001b[0;32m<ipython-input-73-946616c6e15c>\u001b[0m in \u001b[0;36m<module>\u001b[0;34m\u001b[0m\n\u001b[1;32m     19\u001b[0m     \u001b[0mtotal_energy_hist\u001b[0m\u001b[0;34m.\u001b[0m\u001b[0mappend\u001b[0m\u001b[0;34m(\u001b[0m\u001b[0mE_func\u001b[0m\u001b[0;34m(\u001b[0m\u001b[0;34m*\u001b[0m\u001b[0mxp_params\u001b[0m\u001b[0;34m)\u001b[0m\u001b[0;34m)\u001b[0m\u001b[0;34m\u001b[0m\u001b[0;34m\u001b[0m\u001b[0m\n\u001b[1;32m     20\u001b[0m \u001b[0;34m\u001b[0m\u001b[0m\n\u001b[0;32m---> 21\u001b[0;31m     \u001b[0mddq\u001b[0m \u001b[0;34m=\u001b[0m \u001b[0mdynamics\u001b[0m\u001b[0;34m(\u001b[0m\u001b[0mx_out\u001b[0m\u001b[0;34m[\u001b[0m\u001b[0;34m:\u001b[0m\u001b[0;34m,\u001b[0m\u001b[0mi\u001b[0m\u001b[0;34m]\u001b[0m\u001b[0;34m,\u001b[0m \u001b[0mparams\u001b[0m\u001b[0;34m)\u001b[0m\u001b[0;34m;\u001b[0m\u001b[0;34m\u001b[0m\u001b[0;34m\u001b[0m\u001b[0m\n\u001b[0m\u001b[1;32m     22\u001b[0m     \u001b[0mx_out\u001b[0m\u001b[0;34m[\u001b[0m\u001b[0;36m3\u001b[0m\u001b[0;34m:\u001b[0m\u001b[0;34m,\u001b[0m\u001b[0mi\u001b[0m\u001b[0;34m+\u001b[0m\u001b[0;36m1\u001b[0m\u001b[0;34m]\u001b[0m \u001b[0;34m=\u001b[0m \u001b[0mx_out\u001b[0m\u001b[0;34m[\u001b[0m\u001b[0;36m3\u001b[0m\u001b[0;34m:\u001b[0m\u001b[0;34m,\u001b[0m\u001b[0mi\u001b[0m\u001b[0;34m]\u001b[0m \u001b[0;34m+\u001b[0m \u001b[0mddq\u001b[0m\u001b[0;34m*\u001b[0m\u001b[0mdt\u001b[0m\u001b[0;34m;\u001b[0m\u001b[0;34m\u001b[0m\u001b[0;34m\u001b[0m\u001b[0m\n\u001b[1;32m     23\u001b[0m     \u001b[0mx_out\u001b[0m\u001b[0;34m[\u001b[0m\u001b[0;34m:\u001b[0m\u001b[0;36m3\u001b[0m\u001b[0;34m,\u001b[0m\u001b[0mi\u001b[0m\u001b[0;34m+\u001b[0m\u001b[0;36m1\u001b[0m\u001b[0;34m]\u001b[0m \u001b[0;34m=\u001b[0m \u001b[0mx_out\u001b[0m\u001b[0;34m[\u001b[0m\u001b[0;34m:\u001b[0m\u001b[0;36m3\u001b[0m\u001b[0;34m,\u001b[0m\u001b[0mi\u001b[0m\u001b[0;34m]\u001b[0m \u001b[0;34m+\u001b[0m \u001b[0mx_out\u001b[0m\u001b[0;34m[\u001b[0m\u001b[0;36m3\u001b[0m\u001b[0;34m:\u001b[0m\u001b[0;34m,\u001b[0m\u001b[0mi\u001b[0m\u001b[0;34m+\u001b[0m\u001b[0;36m1\u001b[0m\u001b[0;34m]\u001b[0m\u001b[0;34m*\u001b[0m\u001b[0mdt\u001b[0m\u001b[0;34m;\u001b[0m\u001b[0;34m\u001b[0m\u001b[0;34m\u001b[0m\u001b[0m\n",
            "\u001b[0;32m<ipython-input-71-3829cf68a567>\u001b[0m in \u001b[0;36mdynamics\u001b[0;34m(x, params)\u001b[0m\n\u001b[1;32m      9\u001b[0m   \u001b[0mqdd\u001b[0m\u001b[0;34m=\u001b[0m\u001b[0mnp\u001b[0m\u001b[0;34m.\u001b[0m\u001b[0mmatmul\u001b[0m\u001b[0;34m(\u001b[0m\u001b[0mnp\u001b[0m\u001b[0;34m.\u001b[0m\u001b[0mlinalg\u001b[0m\u001b[0;34m.\u001b[0m\u001b[0mpinv\u001b[0m\u001b[0;34m(\u001b[0m\u001b[0mA_dyn\u001b[0m\u001b[0;34m)\u001b[0m\u001b[0;34m,\u001b[0m\u001b[0mb_dyn\u001b[0m\u001b[0;34m)\u001b[0m\u001b[0;34m\u001b[0m\u001b[0;34m\u001b[0m\u001b[0m\n\u001b[1;32m     10\u001b[0m   \u001b[0mprint\u001b[0m\u001b[0;34m(\u001b[0m\u001b[0;34mf\"qdd is:{qdd}\"\u001b[0m\u001b[0;34m)\u001b[0m\u001b[0;34m\u001b[0m\u001b[0;34m\u001b[0m\u001b[0m\n\u001b[0;32m---> 11\u001b[0;31m   \u001b[0mddq\u001b[0m\u001b[0;34m=\u001b[0m\u001b[0mddt\u001b[0m\u001b[0;34m(\u001b[0m\u001b[0mddt\u001b[0m\u001b[0;34m(\u001b[0m\u001b[0mqdd\u001b[0m\u001b[0;34m)\u001b[0m\u001b[0;34m)\u001b[0m\u001b[0;34m\u001b[0m\u001b[0;34m\u001b[0m\u001b[0m\n\u001b[0m\u001b[1;32m     12\u001b[0m   \u001b[0mprint\u001b[0m\u001b[0;34m(\u001b[0m\u001b[0;34mf\"ddq is:{ddq}\"\u001b[0m\u001b[0;34m)\u001b[0m\u001b[0;34m\u001b[0m\u001b[0;34m\u001b[0m\u001b[0m\n\u001b[1;32m     13\u001b[0m   \u001b[0;32mreturn\u001b[0m \u001b[0mddq\u001b[0m\u001b[0;34m\u001b[0m\u001b[0;34m\u001b[0m\u001b[0m\n",
            "\u001b[0;32m<ipython-input-61-ce45e0794dc1>\u001b[0m in \u001b[0;36m<lambda>\u001b[0;34m(x)\u001b[0m\n\u001b[1;32m      1\u001b[0m \u001b[0;31m# Handy functions to be used to compute time derivative and generalized forces: No need to change\u001b[0m\u001b[0;34m\u001b[0m\u001b[0;34m\u001b[0m\u001b[0;34m\u001b[0m\u001b[0m\n\u001b[0;32m----> 2\u001b[0;31m \u001b[0mddt\u001b[0m \u001b[0;34m=\u001b[0m \u001b[0;32mlambda\u001b[0m \u001b[0mx\u001b[0m\u001b[0;34m:\u001b[0m \u001b[0mx\u001b[0m\u001b[0;34m.\u001b[0m\u001b[0mjacobian\u001b[0m\u001b[0;34m(\u001b[0m\u001b[0mq\u001b[0m\u001b[0;34m)\u001b[0m\u001b[0;34m*\u001b[0m\u001b[0mdq\u001b[0m \u001b[0;34m+\u001b[0m \u001b[0mx\u001b[0m\u001b[0;34m.\u001b[0m\u001b[0mjacobian\u001b[0m\u001b[0;34m(\u001b[0m\u001b[0mdq\u001b[0m\u001b[0;34m)\u001b[0m\u001b[0;34m*\u001b[0m\u001b[0mddq\u001b[0m        \u001b[0;31m# Time derivative\u001b[0m\u001b[0;34m\u001b[0m\u001b[0;34m\u001b[0m\u001b[0m\n\u001b[0m\u001b[1;32m      3\u001b[0m \u001b[0mF2Q\u001b[0m \u001b[0;34m=\u001b[0m \u001b[0;32mlambda\u001b[0m \u001b[0mF\u001b[0m\u001b[0;34m,\u001b[0m \u001b[0mr\u001b[0m \u001b[0;34m:\u001b[0m \u001b[0msimplify\u001b[0m\u001b[0;34m(\u001b[0m\u001b[0mr\u001b[0m\u001b[0;34m.\u001b[0m\u001b[0mjacobian\u001b[0m\u001b[0;34m(\u001b[0m\u001b[0mq\u001b[0m\u001b[0;34m)\u001b[0m\u001b[0;34m.\u001b[0m\u001b[0mtranspose\u001b[0m\u001b[0;34m(\u001b[0m\u001b[0;34m)\u001b[0m\u001b[0;34m*\u001b[0m\u001b[0mF\u001b[0m\u001b[0;34m)\u001b[0m    \u001b[0;31m# force contributions to generalized forces\u001b[0m\u001b[0;34m\u001b[0m\u001b[0;34m\u001b[0m\u001b[0m\n\u001b[1;32m      4\u001b[0m \u001b[0mM2Q\u001b[0m \u001b[0;34m=\u001b[0m \u001b[0;32mlambda\u001b[0m \u001b[0mM\u001b[0m\u001b[0;34m,\u001b[0m \u001b[0mw\u001b[0m \u001b[0;34m:\u001b[0m \u001b[0msimplify\u001b[0m\u001b[0;34m(\u001b[0m\u001b[0mw\u001b[0m\u001b[0;34m.\u001b[0m\u001b[0mjacobian\u001b[0m\u001b[0;34m(\u001b[0m\u001b[0mdq\u001b[0m\u001b[0;34m)\u001b[0m\u001b[0;34m.\u001b[0m\u001b[0mtranspose\u001b[0m\u001b[0;34m(\u001b[0m\u001b[0;34m)\u001b[0m\u001b[0;34m*\u001b[0m\u001b[0mM\u001b[0m\u001b[0;34m)\u001b[0m   \u001b[0;31m# moment contributions to generalized forces\u001b[0m\u001b[0;34m\u001b[0m\u001b[0;34m\u001b[0m\u001b[0m\n",
            "\u001b[0;31mAttributeError\u001b[0m: 'numpy.ndarray' object has no attribute 'jacobian'"
          ]
        }
      ],
      "source": [
        "# Simulation: No need to change\n",
        "dt = 0.001;\n",
        "tf = 7;\n",
        "num_step = int(np.floor(tf/dt));\n",
        "tspan = np.linspace(0, tf, num_step); \n",
        "x0 = np.array([np.pi/3, -1, 1, 0.0, 0.0, 0.0]).T;\n",
        "x_out = np.zeros((6,num_step));\n",
        "x_out[:,0] = x0;\n",
        "keypoints_hist = []\n",
        "kinetic_energy_hist = []\n",
        "potential_energy_hist = []\n",
        "total_energy_hist = []\n",
        "\n",
        "for i in range(num_step-1):\n",
        "    xp_params = list(x_out[:, i]) + list(params)\n",
        "    keypoints_hist.append(keypoints_func(*xp_params))\n",
        "    kinetic_energy_hist.append(kinetic_energy_func(*xp_params))\n",
        "    potential_energy_hist.append(potential_energy_func(*xp_params))\n",
        "    total_energy_hist.append(E_func(*xp_params))\n",
        "    \n",
        "    ddq = dynamics(x_out[:,i], params);\n",
        "    x_out[3:,i+1] = x_out[3:,i] + ddq*dt;\n",
        "    x_out[:3,i+1] = x_out[:3,i] + x_out[3:,i+1]*dt;\n",
        "    "
      ]
    },
    {
      "cell_type": "markdown",
      "metadata": {
        "id": "RSpwjPSbiLN5"
      },
      "source": [
        "# **Visualize Simulation**"
      ]
    },
    {
      "cell_type": "code",
      "source": [
        "# 3 dof arm visualization function: No need to change\n",
        "def visualize_arm(keypoints_hist, dt = 0.001, num_frames=200):\n",
        "  fig= plt.figure(figsize=(10,10))\n",
        "  ax = plt.subplot(1,1,1)   \n",
        "  keypoints = keypoints_hist[0]\n",
        "  link1, = ax.plot([], [], 'r', lw=15, alpha=0.3)\n",
        "  link2, = ax.plot([], [], 'r', lw=15, alpha=0.3)\n",
        "  link3, = ax.plot([], [], 'r', lw=15, alpha=0.3)\n",
        "  \n",
        "  txt_title = ax.set_title('')\n",
        "  \n",
        "  ax.set_xlim(( -2, 2))            \n",
        "  ax.set_ylim((-2, 2))\n",
        "  txt_title = ax.set_title('')\n",
        "  interval = len(keypoints_hist)//num_frames\n",
        "  def drawFrame(k):\n",
        "    k = interval*k\n",
        "    keypts = keypoints_hist[k]\n",
        "\n",
        "    x1 = keypts[0, 0]\n",
        "    x2 = keypts[1, 0]\n",
        "    y1 = keypts[0, 1]\n",
        "    y2 = keypts[1, 1]\n",
        "    link1.set_data([x1, x2], [y1, y2])\n",
        "    x1 = keypts[1, 0]\n",
        "    x2 = keypts[2, 0]\n",
        "    y1 = keypts[1, 1]\n",
        "    y2 = keypts[2, 1]\n",
        "    link2.set_data([x1, x2], [y1, y2])\n",
        "    x1 = keypts[2, 0]\n",
        "    x2 = keypts[3, 0]\n",
        "    y1 = keypts[2, 1]\n",
        "    y2 = keypts[3, 1]\n",
        "    link3.set_data([x1, x2], [y1, y2])\n",
        "    txt_title.set_text(f't = {dt*k:.2f} sec')\n",
        "    return link1, link2, link3\n",
        "  anim = animation.FuncAnimation(fig, drawFrame, frames=num_frames, interval=interval, blit=True)\n",
        "  return anim"
      ],
      "metadata": {
        "id": "bWysl3YY9h0r"
      },
      "execution_count": null,
      "outputs": []
    },
    {
      "cell_type": "code",
      "execution_count": null,
      "metadata": {
        "id": "MW31YnWCjM8L"
      },
      "outputs": [],
      "source": [
        "anim = visualize_arm(keypoints_hist, dt = dt, num_frames=200)\n",
        "plt.close()\n",
        "HTML(anim.to_html5_video())"
      ]
    },
    {
      "cell_type": "code",
      "source": [
        "# Plot Kinetic Energy, Potential Energy and Total Energy: No need to change \n",
        "kinetic_energy_hist_np = np.array(kinetic_energy_hist)\n",
        "potential_energy_hist_np = np.array(potential_energy_hist)\n",
        "total_energy_hist_np = np.array(total_energy_hist).reshape(-1)\n",
        "ts = np.arange(0, tf-dt, dt)\n",
        "fig= plt.figure(figsize=(10,10))\n",
        "ax = plt.subplot(1,1,1)   \n",
        "ax.plot(ts, kinetic_energy_hist_np, label='Kinetic Energy')\n",
        "ax.plot(ts, potential_energy_hist_np, label='Potential Energy')\n",
        "ax.plot(ts, total_energy_hist_np, label='Total Energy')\n",
        "ax.legend()\n",
        "ax.set_xlabel('t')\n",
        "plt.show()"
      ],
      "metadata": {
        "id": "FbwZv6mZDVMp"
      },
      "execution_count": null,
      "outputs": []
    },
    {
      "cell_type": "markdown",
      "source": [
        "# (Optional) [10 pts] Explain why the total energy of the arm changes over time. \n",
        "Hint: You can try different time step other than 0.001 to show how the simulation accuracy changes total energy profile."
      ],
      "metadata": {
        "id": "bLNUSbFygAXG"
      }
    },
    {
      "cell_type": "markdown",
      "source": [],
      "metadata": {
        "id": "m7lAnLVdgtsH"
      }
    }
  ],
  "metadata": {
    "colab": {
      "collapsed_sections": [
        "TudhnMg3XEmg",
        "NpkdPb_oXL-b",
        "SA39N7MyXS3u",
        "XQbqqurzXTfJ",
        "gzkRqvssXUXQ",
        "lfVKtJW0XU_j"
      ],
      "provenance": [],
      "include_colab_link": true
    },
    "kernelspec": {
      "display_name": "Python 3 (ipykernel)",
      "language": "python",
      "name": "python3"
    },
    "language_info": {
      "codemirror_mode": {
        "name": "ipython",
        "version": 3
      },
      "file_extension": ".py",
      "mimetype": "text/x-python",
      "name": "python",
      "nbconvert_exporter": "python",
      "pygments_lexer": "ipython3",
      "version": "3.8.13"
    }
  },
  "nbformat": 4,
  "nbformat_minor": 0
}